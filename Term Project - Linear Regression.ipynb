{
 "cells": [
  {
   "cell_type": "code",
   "execution_count": 1,
   "metadata": {},
   "outputs": [
    {
     "name": "stderr",
     "output_type": "stream",
     "text": [
      "/Users/patriziapain/anaconda3/lib/python3.7/site-packages/sklearn/cross_validation.py:41: DeprecationWarning: This module was deprecated in version 0.18 in favor of the model_selection module into which all the refactored classes and functions are moved. Also note that the interface of the new CV iterators are different from that of this module. This module will be removed in 0.20.\n",
      "  \"This module will be removed in 0.20.\", DeprecationWarning)\n"
     ]
    }
   ],
   "source": [
    "import pandas as pd\n",
    "import numpy as np \n",
    "import seaborn as sns \n",
    "import matplotlib.pyplot as plt \n",
    "from sklearn.cross_validation import train_test_split\n",
    "from sklearn.linear_model import LinearRegression, LogisticRegression\n",
    "from sklearn.metrics import mean_squared_error, r2_score"
   ]
  },
  {
   "cell_type": "markdown",
   "metadata": {},
   "source": [
    "Imports \n"
   ]
  },
  {
   "cell_type": "code",
   "execution_count": 2,
   "metadata": {
    "scrolled": true
   },
   "outputs": [
    {
     "name": "stdout",
     "output_type": "stream",
     "text": [
      "  Country Name Country Code                Indicator Name Indicator Code  \\\n",
      "0        Aruba          ABW  Population growth (annual %)    SP.POP.GROW   \n",
      "1  Afghanistan          AFG  Population growth (annual %)    SP.POP.GROW   \n",
      "2       Angola          AGO  Population growth (annual %)    SP.POP.GROW   \n",
      "3      Albania          ALB  Population growth (annual %)    SP.POP.GROW   \n",
      "4      Andorra          AND  Population growth (annual %)    SP.POP.GROW   \n",
      "\n",
      "       1960      1961      1962      1963      1964      1965     ...       \\\n",
      "0  3.148037  2.238144  1.409622  0.832453  0.592649  0.573468     ...        \n",
      "1  1.816077  1.876528  1.934999  1.992521  2.049423  2.105369     ...        \n",
      "2  1.903517  1.927754  1.945774  1.930693  1.870296  1.788799     ...        \n",
      "3  3.015423  3.120855  3.056731  2.953749  2.880686  2.754021     ...        \n",
      "4  7.050663  6.941532  6.692697  6.559522  6.241511  5.998800     ...        \n",
      "\n",
      "       2009      2010      2011      2012      2013      2014      2015  \\\n",
      "0  0.098616  0.212680  0.376985  0.512145  0.592914  0.587492  0.524658   \n",
      "1  2.569114  2.812617  3.095119  3.272703  3.315224  3.183201  2.943234   \n",
      "2  3.566821  3.570099  3.570352  3.559496  3.531824  3.485413  3.428021   \n",
      "3 -0.673894 -0.496462 -0.269017 -0.165151 -0.183211 -0.207047 -0.291206   \n",
      "4  0.714106 -0.015393 -0.829969 -1.588653 -2.013314 -1.956178 -1.537836   \n",
      "\n",
      "       2016      2017  Unnamed: 62  \n",
      "0  0.459929  0.420781          NaN  \n",
      "1  2.689163  2.490790          NaN  \n",
      "2  3.367572  3.313507          NaN  \n",
      "3 -0.159880 -0.091972          NaN  \n",
      "4 -0.944017 -0.409736          NaN  \n",
      "\n",
      "[5 rows x 63 columns]\n",
      "  Country Name Country Code     Indicator Name Indicator Code       1960  \\\n",
      "0        Aruba          ABW  Population, total    SP.POP.TOTL    54211.0   \n",
      "1  Afghanistan          AFG  Population, total    SP.POP.TOTL  8996351.0   \n",
      "2       Angola          AGO  Population, total    SP.POP.TOTL  5643182.0   \n",
      "3      Albania          ALB  Population, total    SP.POP.TOTL  1608800.0   \n",
      "4      Andorra          AND  Population, total    SP.POP.TOTL    13411.0   \n",
      "\n",
      "        1961       1962       1963       1964       1965     ...       \\\n",
      "0    55438.0    56225.0    56695.0    57032.0    57360.0     ...        \n",
      "1  9166764.0  9345868.0  9533954.0  9731361.0  9938414.0     ...        \n",
      "2  5753024.0  5866061.0  5980417.0  6093321.0  6203299.0     ...        \n",
      "3  1659800.0  1711319.0  1762621.0  1814135.0  1864791.0     ...        \n",
      "4    14375.0    15370.0    16412.0    17469.0    18549.0     ...        \n",
      "\n",
      "         2009        2010        2011        2012        2013        2014  \\\n",
      "0    101453.0    101669.0    102053.0    102577.0    103187.0    103795.0   \n",
      "1  28004331.0  28803167.0  29708599.0  30696958.0  31731688.0  32758020.0   \n",
      "2  22549547.0  23369131.0  24218565.0  25096150.0  25998340.0  26920466.0   \n",
      "3   2927519.0   2913021.0   2905195.0   2900401.0   2895092.0   2889104.0   \n",
      "4     84462.0     84449.0     83751.0     82431.0     80788.0     79223.0   \n",
      "\n",
      "         2015        2016        2017  Unnamed: 62  \n",
      "0    104341.0    104822.0    105264.0          NaN  \n",
      "1  33736494.0  34656032.0  35530081.0          NaN  \n",
      "2  27859305.0  28813463.0  29784193.0          NaN  \n",
      "3   2880703.0   2876101.0   2873457.0          NaN  \n",
      "4     78014.0     77281.0     76965.0          NaN  \n",
      "\n",
      "[5 rows x 63 columns]\n"
     ]
    }
   ],
   "source": [
    "pop_growth_csv = \"population_growth.csv\"\n",
    "pop_total_csv = \"population_total.csv\"\n",
    "\n",
    "pop_growth_df = pd.read_csv(pop_growth_csv)\n",
    "pop_total_df = pd.read_csv(pop_total_csv)\n",
    "\n",
    "print(pop_growth_df.head())\n",
    "print(pop_total_df.head())"
   ]
  },
  {
   "cell_type": "markdown",
   "metadata": {},
   "source": [
    "Turning csv into dataframes "
   ]
  },
  {
   "cell_type": "code",
   "execution_count": 3,
   "metadata": {},
   "outputs": [
    {
     "name": "stdout",
     "output_type": "stream",
     "text": [
      "  Country Name      1960      1961      1962      1963      1964      1965  \\\n",
      "0        Aruba  3.148037  2.238144  1.409622  0.832453  0.592649  0.573468   \n",
      "1  Afghanistan  1.816077  1.876528  1.934999  1.992521  2.049423  2.105369   \n",
      "2       Angola  1.903517  1.927754  1.945774  1.930693  1.870296  1.788799   \n",
      "3      Albania  3.015423  3.120855  3.056731  2.953749  2.880686  2.754021   \n",
      "4      Andorra  7.050663  6.941532  6.692697  6.559522  6.241511  5.998800   \n",
      "\n",
      "       1966      1967      1968    ...         2008      2009      2010  \\\n",
      "0  0.616991  0.587373  0.568530    ...     0.131311  0.098616  0.212680   \n",
      "1  2.129588  2.146727  2.209331    ...     2.512574  2.569114  2.812617   \n",
      "2  1.701798  1.653899  1.681743    ...     3.563448  3.566821  3.570099   \n",
      "3  2.634564  2.630190  2.842511    ...    -0.767343 -0.673894 -0.496462   \n",
      "4  5.750878  5.500706  5.309820    ...     1.414665  0.714106 -0.015393   \n",
      "\n",
      "       2011      2012      2013      2014      2015      2016      2017  \n",
      "0  0.376985  0.512145  0.592914  0.587492  0.524658  0.459929  0.420781  \n",
      "1  3.095119  3.272703  3.315224  3.183201  2.943234  2.689163  2.490790  \n",
      "2  3.570352  3.559496  3.531824  3.485413  3.428021  3.367572  3.313507  \n",
      "3 -0.269017 -0.165151 -0.183211 -0.207047 -0.291206 -0.159880 -0.091972  \n",
      "4 -0.829969 -1.588653 -2.013314 -1.956178 -1.537836 -0.944017 -0.409736  \n",
      "\n",
      "[5 rows x 59 columns]\n",
      "  Country Name      1960      1961      1962      1963      1964      1965  \\\n",
      "0        Aruba  3.148037  2.238144  1.409622  0.832453  0.592649  0.573468   \n",
      "1  Afghanistan  1.816077  1.876528  1.934999  1.992521  2.049423  2.105369   \n",
      "2       Angola  1.903517  1.927754  1.945774  1.930693  1.870296  1.788799   \n",
      "3      Albania  3.015423  3.120855  3.056731  2.953749  2.880686  2.754021   \n",
      "4      Andorra  7.050663  6.941532  6.692697  6.559522  6.241511  5.998800   \n",
      "\n",
      "       1966      1967      1968    ...         2008      2009      2010  \\\n",
      "0  0.616991  0.587373  0.568530    ...     0.131311  0.098616  0.212680   \n",
      "1  2.129588  2.146727  2.209331    ...     2.512574  2.569114  2.812617   \n",
      "2  1.701798  1.653899  1.681743    ...     3.563448  3.566821  3.570099   \n",
      "3  2.634564  2.630190  2.842511    ...    -0.767343 -0.673894 -0.496462   \n",
      "4  5.750878  5.500706  5.309820    ...     1.414665  0.714106 -0.015393   \n",
      "\n",
      "       2011      2012      2013      2014      2015      2016      2017  \n",
      "0  0.376985  0.512145  0.592914  0.587492  0.524658  0.459929  0.420781  \n",
      "1  3.095119  3.272703  3.315224  3.183201  2.943234  2.689163  2.490790  \n",
      "2  3.570352  3.559496  3.531824  3.485413  3.428021  3.367572  3.313507  \n",
      "3 -0.269017 -0.165151 -0.183211 -0.207047 -0.291206 -0.159880 -0.091972  \n",
      "4 -0.829969 -1.588653 -2.013314 -1.956178 -1.537836 -0.944017 -0.409736  \n",
      "\n",
      "[5 rows x 59 columns]\n"
     ]
    }
   ],
   "source": [
    "pop_growth_df = pop_growth_df.drop(columns=['Indicator Name', 'Indicator Code', \"Country Code\"])\n",
    "pop_growth_df = pop_growth_df.drop(pop_growth_df.columns[pop_growth_df.columns.str.contains('unnamed',case = False)],axis = 1)\n",
    "print(pop_growth_df.head())\n",
    "\n",
    "pop_total_df = pop_total_df.drop(columns=['Indicator Name', 'Indicator Code', \"Country Code\"])\n",
    "pop_total_df = pop_total_df.drop(pop_total_df.columns[pop_total_df.columns.str.contains('unnamed',case = False)],axis = 1)\n",
    "print(pop_growth_df.head())"
   ]
  },
  {
   "cell_type": "markdown",
   "metadata": {},
   "source": [
    "Dropping unnecessary columns"
   ]
  },
  {
   "cell_type": "code",
   "execution_count": 4,
   "metadata": {
    "scrolled": true
   },
   "outputs": [
    {
     "name": "stdout",
     "output_type": "stream",
     "text": [
      "     Year  Average Growth  Average Total\n",
      "0  1960.0        2.326182   1.178154e+08\n",
      "1  1961.0        2.226871   1.193987e+08\n",
      "2  1962.0        2.274543   1.215153e+08\n",
      "3  1963.0        2.342131   1.241500e+08\n",
      "4  1964.0        2.288505   1.268056e+08\n"
     ]
    }
   ],
   "source": [
    "avg_df = pd.DataFrame(columns=[\"Year\", \"Average Growth\", \"Average Total\"])\n",
    "\n",
    "for column in pop_growth_df:\n",
    "    if column != 'Country Name':      \n",
    "        avg_growth = pop_growth_df.loc[:,column].mean()\n",
    "        avg_total = pop_total_df.loc[:, column].mean()\n",
    "        avg_df = avg_df.append({'Year':int(column), 'Average Growth':avg_growth, 'Average Total':avg_total}, ignore_index=True)\n",
    "        \n",
    "print(avg_df.head())"
   ]
  },
  {
   "cell_type": "markdown",
   "metadata": {},
   "source": [
    "Making an average dataframe to plot & to train with"
   ]
  },
  {
   "cell_type": "code",
   "execution_count": 5,
   "metadata": {},
   "outputs": [
    {
     "data": {
      "text/plain": [
       "<matplotlib.axes._subplots.AxesSubplot at 0x1081c0eb8>"
      ]
     },
     "execution_count": 5,
     "metadata": {},
     "output_type": "execute_result"
    },
    {
     "data": {
      "image/png": "[encoded data removed]",
      "text/plain": [
       "<Figure size 432x288 with 2 Axes>"
      ]
     },
     "metadata": {
      "needs_background": "light"
     },
     "output_type": "display_data"
    }
   ],
   "source": [
    "fig, ax = plt.subplots()\n",
    "ax2 = ax.twinx()\n",
    "avg_df.plot(kind='scatter', x='Year', y='Average Growth', ax=ax, title='Population Growth Versus Total') \n",
    "avg_df.plot(kind='scatter', x='Year', y='Average Total', ax=ax2, color='r')"
   ]
  },
  {
   "cell_type": "markdown",
   "metadata": {},
   "source": [
    "Plotting both population growth and total averages from the data frame to see the corelation"
   ]
  },
  {
   "cell_type": "code",
   "execution_count": 6,
   "metadata": {},
   "outputs": [
    {
     "name": "stdout",
     "output_type": "stream",
     "text": [
      "Growth Intercept: [39.57337024]\n",
      "Growth Coefficient: [[-0.0189952]]\n",
      "Growth predictions on test set: \n",
      "[[1.82991583]\n",
      " [1.27905514]\n",
      " [2.20981975]\n",
      " [1.90589661]\n",
      " [2.24781014]\n",
      " [1.88690142]\n",
      " [1.84891102]\n",
      " [1.81092063]\n",
      " [1.31704554]\n",
      " [2.07685338]\n",
      " [2.05785818]\n",
      " [1.69694946]\n",
      " [2.19082455]\n",
      " [1.56398308]\n",
      " [2.17182936]]\n",
      "Total Intercept: [-6.35653684e+09]\n",
      "Total Coefficient: [[3300245.74431547]]\n",
      "Total predictions on test set: \n",
      "[[2.30753665e+08]\n",
      " [2.17552682e+08]\n",
      " [1.97751207e+08]\n",
      " [2.01051453e+08]\n",
      " [2.67056368e+08]\n",
      " [1.68048996e+08]\n",
      " [2.83557597e+08]\n",
      " [1.71349242e+08]\n",
      " [1.87850470e+08]\n",
      " [1.64748750e+08]\n",
      " [1.48247521e+08]\n",
      " [2.80257351e+08]\n",
      " [1.35046538e+08]\n",
      " [1.44947276e+08]\n",
      " [1.28446047e+08]]\n"
     ]
    }
   ],
   "source": [
    "# feature\n",
    "X = avg_df['Year'].values\n",
    "\n",
    "# target\n",
    "y_growth = avg_df['Average Growth'].values\n",
    "y_total = avg_df['Average Total'].values\n",
    "\n",
    "# splitting the data into train and test sets for GROWTH\n",
    "X_train, X_test, y_train_growth, y_test_growth = train_test_split(X, y_growth)\n",
    "\n",
    "# instantiate the linear models\n",
    "linreg_growth = LinearRegression()\n",
    "linreg_total = LinearRegression()\n",
    "\n",
    "# fit the model for growth predictions\n",
    "linreg_growth.fit(X_train.reshape(-1, 1), y_train_growth.reshape(-1, 1))\n",
    "y_pred_growth = linreg_growth.predict(X_test.reshape(-1,1))\n",
    "\n",
    "print(\"Growth Intercept: \" + str(linreg_growth.intercept_))\n",
    "print(\"Growth Coefficient: \" + str(linreg_growth.coef_))\n",
    "print(\"Growth predictions on test set: \")\n",
    "print(y_pred_growth)\n",
    "\n",
    "# splitting the data into train and test sets for TOTAL\n",
    "X_train, X_test, y_train_total, y_test_total = train_test_split(X, y_total)\n",
    "\n",
    "# fit the model for total predictions \n",
    "linreg_total.fit(X_train.reshape(-1,1), y_train_total.reshape(-1, 1))\n",
    "y_pred_total = linreg_total.predict(X_test.reshape(-1, 1))\n",
    "\n",
    "print(\"Total Intercept: \" + str(linreg_total.intercept_))\n",
    "print(\"Total Coefficient: \" + str(linreg_total.coef_))\n",
    "print(\"Total predictions on test set: \")\n",
    "print(y_pred_total)"
   ]
  },
  {
   "cell_type": "markdown",
   "metadata": {},
   "source": [
    "Here, I fit the model and printed out the predicted values. This is fairly simple considering we only have one feature"
   ]
  },
  {
   "cell_type": "code",
   "execution_count": 7,
   "metadata": {},
   "outputs": [
    {
     "name": "stdout",
     "output_type": "stream",
     "text": [
      "Growth MSE: 0.013963261257339253\n",
      "Growth r2 score: 0.8599643265100232\n",
      "Total MSE: 1975104103677.2488\n",
      "Total r2 score: 0.9992142066480998\n"
     ]
    }
   ],
   "source": [
    "print(\"Growth MSE: \" + str(mean_squared_error(y_test_growth, y_pred_growth)))\n",
    "print(\"Growth r2 score: \" + str(r2_score(y_test_growth, y_pred_growth)))\n",
    "\n",
    "print(\"Total MSE: \" + str(mean_squared_error(y_test_total, y_pred_total)))\n",
    "print(\"Total r2 score: \" + str(r2_score(y_test_total, y_pred_total)))"
   ]
  },
  {
   "cell_type": "markdown",
   "metadata": {},
   "source": [
    "Calculating MSE and correlation using r2. For the amount of data that we have, and the fact that there is only one feature, we believe that the MSE and r2_score indicate that the model is good to predict new data values. "
   ]
  },
  {
   "cell_type": "code",
   "execution_count": 8,
   "metadata": {},
   "outputs": [
    {
     "name": "stdout",
     "output_type": "stream",
     "text": [
      "New predictions for growth average: \n",
      "[[ 1.24106475]\n",
      " [ 1.22206956]\n",
      " [ 1.20307436]\n",
      " [ 1.18407916]\n",
      " [ 1.16508397]\n",
      " [ 1.14608877]\n",
      " [ 1.12709358]\n",
      " [ 1.10809838]\n",
      " [ 1.08910318]\n",
      " [ 1.07010799]\n",
      " [ 1.05111279]\n",
      " [ 1.0321176 ]\n",
      " [ 1.0131224 ]\n",
      " [ 0.99412721]\n",
      " [ 0.97513201]\n",
      " [ 0.95613681]\n",
      " [ 0.93714162]\n",
      " [ 0.91814642]\n",
      " [ 0.89915123]\n",
      " [ 0.88015603]\n",
      " [ 0.86116083]\n",
      " [ 0.84216564]\n",
      " [ 0.82317044]\n",
      " [ 0.80417525]\n",
      " [ 0.78518005]\n",
      " [ 0.76618485]\n",
      " [ 0.74718966]\n",
      " [ 0.72819446]\n",
      " [ 0.70919927]\n",
      " [ 0.69020407]\n",
      " [ 0.67120887]\n",
      " [ 0.65221368]\n",
      " [ 0.63321848]\n",
      " [ 0.61422329]\n",
      " [ 0.59522809]\n",
      " [ 0.57623289]\n",
      " [ 0.5572377 ]\n",
      " [ 0.5382425 ]\n",
      " [ 0.51924731]\n",
      " [ 0.50025211]\n",
      " [ 0.48125691]\n",
      " [ 0.46226172]\n",
      " [ 0.44326652]\n",
      " [ 0.42427133]\n",
      " [ 0.40527613]\n",
      " [ 0.38628093]\n",
      " [ 0.36728574]\n",
      " [ 0.34829054]\n",
      " [ 0.32929535]\n",
      " [ 0.31030015]\n",
      " [ 0.29130495]\n",
      " [ 0.27230976]\n",
      " [ 0.25331456]\n",
      " [ 0.23431937]\n",
      " [ 0.21532417]\n",
      " [ 0.19632897]\n",
      " [ 0.17733378]\n",
      " [ 0.15833858]\n",
      " [ 0.13934339]\n",
      " [ 0.12034819]\n",
      " [ 0.10135299]\n",
      " [ 0.0823578 ]\n",
      " [ 0.0633626 ]\n",
      " [ 0.04436741]\n",
      " [ 0.02537221]\n",
      " [ 0.00637701]\n",
      " [-0.01261818]\n",
      " [-0.03161338]\n",
      " [-0.05060857]\n",
      " [-0.06960377]\n",
      " [-0.08859897]\n",
      " [-0.10759416]\n",
      " [-0.12658936]\n",
      " [-0.14558455]\n",
      " [-0.16457975]\n",
      " [-0.18357495]\n",
      " [-0.20257014]\n",
      " [-0.22156534]\n",
      " [-0.24056053]\n",
      " [-0.25955573]\n",
      " [-0.27855093]\n",
      " [-0.29754612]\n",
      " [-0.31654132]]\n",
      "New predictions for total average: \n",
      "[[3.03359071e+08]\n",
      " [3.06659317e+08]\n",
      " [3.09959563e+08]\n",
      " [3.13259809e+08]\n",
      " [3.16560054e+08]\n",
      " [3.19860300e+08]\n",
      " [3.23160546e+08]\n",
      " [3.26460791e+08]\n",
      " [3.29761037e+08]\n",
      " [3.33061283e+08]\n",
      " [3.36361529e+08]\n",
      " [3.39661774e+08]\n",
      " [3.42962020e+08]\n",
      " [3.46262266e+08]\n",
      " [3.49562512e+08]\n",
      " [3.52862757e+08]\n",
      " [3.56163003e+08]\n",
      " [3.59463249e+08]\n",
      " [3.62763495e+08]\n",
      " [3.66063740e+08]\n",
      " [3.69363986e+08]\n",
      " [3.72664232e+08]\n",
      " [3.75964478e+08]\n",
      " [3.79264723e+08]\n",
      " [3.82564969e+08]\n",
      " [3.85865215e+08]\n",
      " [3.89165461e+08]\n",
      " [3.92465706e+08]\n",
      " [3.95765952e+08]\n",
      " [3.99066198e+08]\n",
      " [4.02366444e+08]\n",
      " [4.05666689e+08]\n",
      " [4.08966935e+08]\n",
      " [4.12267181e+08]\n",
      " [4.15567427e+08]\n",
      " [4.18867672e+08]\n",
      " [4.22167918e+08]\n",
      " [4.25468164e+08]\n",
      " [4.28768410e+08]\n",
      " [4.32068655e+08]\n",
      " [4.35368901e+08]\n",
      " [4.38669147e+08]\n",
      " [4.41969393e+08]\n",
      " [4.45269638e+08]\n",
      " [4.48569884e+08]\n",
      " [4.51870130e+08]\n",
      " [4.55170376e+08]\n",
      " [4.58470621e+08]\n",
      " [4.61770867e+08]\n",
      " [4.65071113e+08]\n",
      " [4.68371359e+08]\n",
      " [4.71671604e+08]\n",
      " [4.74971850e+08]\n",
      " [4.78272096e+08]\n",
      " [4.81572341e+08]\n",
      " [4.84872587e+08]\n",
      " [4.88172833e+08]\n",
      " [4.91473079e+08]\n",
      " [4.94773324e+08]\n",
      " [4.98073570e+08]\n",
      " [5.01373816e+08]\n",
      " [5.04674062e+08]\n",
      " [5.07974307e+08]\n",
      " [5.11274553e+08]\n",
      " [5.14574799e+08]\n",
      " [5.17875045e+08]\n",
      " [5.21175290e+08]\n",
      " [5.24475536e+08]\n",
      " [5.27775782e+08]\n",
      " [5.31076028e+08]\n",
      " [5.34376273e+08]\n",
      " [5.37676519e+08]\n",
      " [5.40976765e+08]\n",
      " [5.44277011e+08]\n",
      " [5.47577256e+08]\n",
      " [5.50877502e+08]\n",
      " [5.54177748e+08]\n",
      " [5.57477994e+08]\n",
      " [5.60778239e+08]\n",
      " [5.64078485e+08]\n",
      " [5.67378731e+08]\n",
      " [5.70678977e+08]\n",
      " [5.73979222e+08]]\n"
     ]
    }
   ],
   "source": [
    "future_years = np.asarray(list(range(2018, 2101)))\n",
    "\n",
    "new_pred_growth = linreg_growth.predict(future_years.reshape(-1,1))\n",
    "new_pred_total = linreg_total.predict(future_years.reshape(-1, 1))\n",
    "\n",
    "print('New predictions for growth average: ')\n",
    "print(new_pred_growth)\n",
    "\n",
    "print('New predictions for total average: ')\n",
    "print(new_pred_total)"
   ]
  },
  {
   "cell_type": "markdown",
   "metadata": {},
   "source": [
    "Making predictions on future years "
   ]
  },
  {
   "cell_type": "code",
   "execution_count": 9,
   "metadata": {},
   "outputs": [
    {
     "name": "stdout",
     "output_type": "stream",
     "text": [
      "   Year  Average Growth  Average Total\n",
      "0  2018        1.241065   3.033591e+08\n",
      "1  2019        1.222070   3.066593e+08\n",
      "2  2020        1.203074   3.099596e+08\n",
      "3  2021        1.184079   3.132598e+08\n",
      "4  2022        1.165084   3.165601e+08\n"
     ]
    }
   ],
   "source": [
    "avg_pred_df = pd.DataFrame(columns=[\"Year\", \"Average Growth\", \"Average Total\"])\n",
    "\n",
    "avg_pred_df['Year'] = future_years\n",
    "avg_pred_df['Average Growth'] = new_pred_growth\n",
    "avg_pred_df['Average Total'] = new_pred_total\n",
    "\n",
    "print(avg_pred_df.head())"
   ]
  },
  {
   "cell_type": "markdown",
   "metadata": {},
   "source": [
    "Predicting population growth and total for years 2018-2100 and storing it in a dataframe."
   ]
  },
  {
   "cell_type": "code",
   "execution_count": 10,
   "metadata": {},
   "outputs": [
    {
     "data": {
      "text/plain": [
       "<matplotlib.axes._subplots.AxesSubplot at 0x1a1c6962b0>"
      ]
     },
     "execution_count": 10,
     "metadata": {},
     "output_type": "execute_result"
    },
    {
     "data": {
      "image/png": "[encoded data removed]",
      "text/plain": [
       "<Figure size 432x288 with 2 Axes>"
      ]
     },
     "metadata": {
      "needs_background": "light"
     },
     "output_type": "display_data"
    }
   ],
   "source": [
    "fig, ax = plt.subplots()\n",
    "ax2 = ax.twinx()\n",
    "avg_pred_df.plot(kind='scatter', x='Year', y='Average Growth', ax=ax, title='Predicted Growth and Total') \n",
    "avg_pred_df.plot(kind='scatter', x='Year', y='Average Total', ax=ax2, color='r')"
   ]
  },
  {
   "cell_type": "code",
   "execution_count": 11,
   "metadata": {},
   "outputs": [
    {
     "name": "stdout",
     "output_type": "stream",
     "text": [
      "     Year  Average Growth  Average Total\n",
      "0  1960.0        2.326182   1.178154e+08\n",
      "1  1961.0        2.226871   1.193987e+08\n",
      "2  1962.0        2.274543   1.215153e+08\n",
      "3  1963.0        2.342131   1.241500e+08\n",
      "4  1964.0        2.288505   1.268056e+08\n"
     ]
    }
   ],
   "source": [
    "avg_df = avg_df.append(avg_pred_df, ignore_index=True)\n",
    "print(avg_df.head())"
   ]
  },
  {
   "cell_type": "markdown",
   "metadata": {},
   "source": [
    "Merging the actual data versus the predicted data to create the final plot "
   ]
  },
  {
   "cell_type": "code",
   "execution_count": 12,
   "metadata": {},
   "outputs": [
    {
     "data": {
      "text/plain": [
       "<matplotlib.axes._subplots.AxesSubplot at 0x1a1c631320>"
      ]
     },
     "execution_count": 12,
     "metadata": {},
     "output_type": "execute_result"
    },
    {
     "data": {
      "image/png": "[encoded data removed]",
      "text/plain": [
       "<Figure size 432x288 with 2 Axes>"
      ]
     },
     "metadata": {
      "needs_background": "light"
     },
     "output_type": "display_data"
    }
   ],
   "source": [
    "fig, ax = plt.subplots()\n",
    "ax2 = ax.twinx()\n",
    "avg_df.plot(kind='scatter', x='Year', y='Average Growth', ax=ax, title='Actual and Predicted Growth and Total') \n",
    "avg_df.plot(kind='scatter', x='Year', y='Average Total', ax=ax2, color='r')"
   ]
  },
  {
   "cell_type": "markdown",
   "metadata": {},
   "source": [
    "Plot including both the actual data and the predicted data. Should note that predicted data is linear, so it is not the best estimate, but it gives us a very good visual relationship of what will happen in the future."
   ]
  },
  {
   "cell_type": "code",
   "execution_count": 25,
   "metadata": {},
   "outputs": [
    {
     "name": "stderr",
     "output_type": "stream",
     "text": [
      "/Users/patriziapain/anaconda3/lib/python3.7/site-packages/sklearn/utils/validation.py:578: DataConversionWarning: A column-vector y was passed when a 1d array was expected. Please change the shape of y to (n_samples, ), for example using ravel().\n",
      "  y = column_or_1d(y, warn=True)\n"
     ]
    },
    {
     "ename": "ValueError",
     "evalue": "Found input variables with inconsistent numbers of samples: [105, 36]",
     "output_type": "error",
     "traceback": [
      "\u001b[0;31m---------------------------------------------------------------------------\u001b[0m",
      "\u001b[0;31mValueError\u001b[0m                                Traceback (most recent call last)",
      "\u001b[0;32m<ipython-input-25-50b4e9b7f2c6>\u001b[0m in \u001b[0;36m<module>\u001b[0;34m()\u001b[0m\n\u001b[1;32m     17\u001b[0m \u001b[0;34m\u001b[0m\u001b[0m\n\u001b[1;32m     18\u001b[0m \u001b[0;31m# fit the model for growth predictions\u001b[0m\u001b[0;34m\u001b[0m\u001b[0;34m\u001b[0m\u001b[0m\n\u001b[0;32m---> 19\u001b[0;31m \u001b[0mlogreg_growth\u001b[0m\u001b[0;34m.\u001b[0m\u001b[0mfit\u001b[0m\u001b[0;34m(\u001b[0m\u001b[0mX_train\u001b[0m\u001b[0;34m,\u001b[0m \u001b[0my_test_growth\u001b[0m\u001b[0;34m)\u001b[0m\u001b[0;34m\u001b[0m\u001b[0m\n\u001b[0m\u001b[1;32m     20\u001b[0m \u001b[0my_pred_growth\u001b[0m \u001b[0;34m=\u001b[0m \u001b[0mlogreg_growth\u001b[0m\u001b[0;34m.\u001b[0m\u001b[0mpredict\u001b[0m\u001b[0;34m(\u001b[0m\u001b[0mX_test\u001b[0m\u001b[0;34m.\u001b[0m\u001b[0mreshape\u001b[0m\u001b[0;34m(\u001b[0m\u001b[0;34m-\u001b[0m\u001b[0;36m1\u001b[0m\u001b[0;34m,\u001b[0m\u001b[0;36m1\u001b[0m\u001b[0;34m)\u001b[0m\u001b[0;34m)\u001b[0m\u001b[0;34m\u001b[0m\u001b[0m\n\u001b[1;32m     21\u001b[0m \u001b[0;34m\u001b[0m\u001b[0m\n",
      "\u001b[0;32m~/anaconda3/lib/python3.7/site-packages/sklearn/linear_model/logistic.py\u001b[0m in \u001b[0;36mfit\u001b[0;34m(self, X, y, sample_weight)\u001b[0m\n\u001b[1;32m   1218\u001b[0m \u001b[0;34m\u001b[0m\u001b[0m\n\u001b[1;32m   1219\u001b[0m         X, y = check_X_y(X, y, accept_sparse='csr', dtype=_dtype,\n\u001b[0;32m-> 1220\u001b[0;31m                          order=\"C\")\n\u001b[0m\u001b[1;32m   1221\u001b[0m         \u001b[0mcheck_classification_targets\u001b[0m\u001b[0;34m(\u001b[0m\u001b[0my\u001b[0m\u001b[0;34m)\u001b[0m\u001b[0;34m\u001b[0m\u001b[0m\n\u001b[1;32m   1222\u001b[0m         \u001b[0mself\u001b[0m\u001b[0;34m.\u001b[0m\u001b[0mclasses_\u001b[0m \u001b[0;34m=\u001b[0m \u001b[0mnp\u001b[0m\u001b[0;34m.\u001b[0m\u001b[0munique\u001b[0m\u001b[0;34m(\u001b[0m\u001b[0my\u001b[0m\u001b[0;34m)\u001b[0m\u001b[0;34m\u001b[0m\u001b[0m\n",
      "\u001b[0;32m~/anaconda3/lib/python3.7/site-packages/sklearn/utils/validation.py\u001b[0m in \u001b[0;36mcheck_X_y\u001b[0;34m(X, y, accept_sparse, dtype, order, copy, force_all_finite, ensure_2d, allow_nd, multi_output, ensure_min_samples, ensure_min_features, y_numeric, warn_on_dtype, estimator)\u001b[0m\n\u001b[1;32m    581\u001b[0m         \u001b[0my\u001b[0m \u001b[0;34m=\u001b[0m \u001b[0my\u001b[0m\u001b[0;34m.\u001b[0m\u001b[0mastype\u001b[0m\u001b[0;34m(\u001b[0m\u001b[0mnp\u001b[0m\u001b[0;34m.\u001b[0m\u001b[0mfloat64\u001b[0m\u001b[0;34m)\u001b[0m\u001b[0;34m\u001b[0m\u001b[0m\n\u001b[1;32m    582\u001b[0m \u001b[0;34m\u001b[0m\u001b[0m\n\u001b[0;32m--> 583\u001b[0;31m     \u001b[0mcheck_consistent_length\u001b[0m\u001b[0;34m(\u001b[0m\u001b[0mX\u001b[0m\u001b[0;34m,\u001b[0m \u001b[0my\u001b[0m\u001b[0;34m)\u001b[0m\u001b[0;34m\u001b[0m\u001b[0m\n\u001b[0m\u001b[1;32m    584\u001b[0m \u001b[0;34m\u001b[0m\u001b[0m\n\u001b[1;32m    585\u001b[0m     \u001b[0;32mreturn\u001b[0m \u001b[0mX\u001b[0m\u001b[0;34m,\u001b[0m \u001b[0my\u001b[0m\u001b[0;34m\u001b[0m\u001b[0m\n",
      "\u001b[0;32m~/anaconda3/lib/python3.7/site-packages/sklearn/utils/validation.py\u001b[0m in \u001b[0;36mcheck_consistent_length\u001b[0;34m(*arrays)\u001b[0m\n\u001b[1;32m    202\u001b[0m     \u001b[0;32mif\u001b[0m \u001b[0mlen\u001b[0m\u001b[0;34m(\u001b[0m\u001b[0muniques\u001b[0m\u001b[0;34m)\u001b[0m \u001b[0;34m>\u001b[0m \u001b[0;36m1\u001b[0m\u001b[0;34m:\u001b[0m\u001b[0;34m\u001b[0m\u001b[0m\n\u001b[1;32m    203\u001b[0m         raise ValueError(\"Found input variables with inconsistent numbers of\"\n\u001b[0;32m--> 204\u001b[0;31m                          \" samples: %r\" % [int(l) for l in lengths])\n\u001b[0m\u001b[1;32m    205\u001b[0m \u001b[0;34m\u001b[0m\u001b[0m\n\u001b[1;32m    206\u001b[0m \u001b[0;34m\u001b[0m\u001b[0m\n",
      "\u001b[0;31mValueError\u001b[0m: Found input variables with inconsistent numbers of samples: [105, 36]"
     ]
    }
   ],
   "source": [
    "# feature\n",
    "X = avg_df['Year'].values\n",
    "\n",
    "# target\n",
    "y_growth = avg_df['Average Growth'].values\n",
    "y_total = avg_df['Average Total'].values\n",
    "\n",
    "# splitting the data into train and test sets for GROWTH\n",
    "X_train, X_test, y_train_growth, y_test_growth = train_test_split(X, y_growth)\n",
    "\n",
    "# instantiate the linear models\n",
    "logreg_growth = LogisticRegression()\n",
    "logreg_total = LogisticRegression()\n",
    "\n",
    "X_train = X_train.reshape(-1,1)\n",
    "y_test_growth = y_test_growth.reshape(-1,1)\n",
    "\n",
    "# fit the model for growth predictions\n",
    "logreg_growth.fit(X_train, y_test_growth)\n",
    "y_pred_growth = logreg_growth.predict(X_test.reshape(-1,1))\n",
    "\n",
    "print(\"Growth Intercept: \" + str(logreg_growth.intercept_))\n",
    "print(\"Growth Coefficient: \" + str(logreg_growth.coef_))\n",
    "print(\"Growth predictions on test set: \")\n",
    "print(y_pred_growth)\n",
    "\n",
    "# splitting the data into train and test sets for TOTAL\n",
    "X_train, X_test, y_train_total, y_test_total = train_test_split(X, y_total)\n",
    "\n",
    "# fit the model for total predictions \n",
    "logreg_total.fit(X_train.reshape(-1,1), y_train_total.reshape(-1, 1))\n",
    "y_pred_total = logreg_total.predict(X_test.reshape(-1, 1))\n",
    "\n",
    "print(\"Total Intercept: \" + str(logreg_total.intercept_))\n",
    "print(\"Total Coefficient: \" + str(logreg_total.coef_))\n",
    "print(\"Total predictions on test set: \")\n",
    "print(y_pred_total)"
   ]
  },
  {
   "cell_type": "code",
   "execution_count": null,
   "metadata": {},
   "outputs": [],
   "source": []
  },
  {
   "cell_type": "code",
   "execution_count": null,
   "metadata": {},
   "outputs": [],
   "source": []
  }
 ],
 "metadata": {
  "kernelspec": {
   "display_name": "Python 3",
   "language": "python",
   "name": "python3"
  },
  "language_info": {
   "codemirror_mode": {
    "name": "ipython",
    "version": 3
   },
   "file_extension": ".py",
   "mimetype": "text/x-python",
   "name": "python",
   "nbconvert_exporter": "python",
   "pygments_lexer": "ipython3",
   "version": "3.7.0"
  }
 },
 "nbformat": 4,
 "nbformat_minor": 2
}
